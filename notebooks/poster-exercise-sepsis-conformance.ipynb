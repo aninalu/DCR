{
 "cells": [
  {
   "cell_type": "code",
   "execution_count": 1,
   "id": "7934b50c6d0981ed",
   "metadata": {
    "collapsed": false
   },
   "outputs": [
    {
     "name": "stdout",
     "output_type": "stream",
     "text": [
      "/Users/aninauldum/Documents/Datalogi/REBS/opg1/notebooks\n",
      "/Users/aninauldum/Documents/Datalogi/REBS/opg1\n"
     ]
    }
   ],
   "source": [
    "%load_ext autoreload\n",
    "%autoreload 2\n",
    "import os\n",
    "print(os.getcwd())\n",
    "to_run = True\n",
    "if to_run:\n",
    "    os.chdir('..')\n",
    "    to_run = False\n",
    "print(os.getcwd())"
   ]
  },
  {
   "cell_type": "code",
   "execution_count": 2,
   "id": "7245a3ea45382e18",
   "metadata": {
    "collapsed": false
   },
   "outputs": [
    {
     "ename": "SyntaxError",
     "evalue": "invalid syntax (xml_dcr_portal.py, line 79)",
     "output_type": "error",
     "traceback": [
      "Traceback \u001b[0;36m(most recent call last)\u001b[0m:\n",
      "\u001b[0m  File \u001b[1;32m~/Library/Python/3.9/lib/python/site-packages/IPython/core/interactiveshell.py:3550\u001b[0m in \u001b[1;35mrun_code\u001b[0m\n    exec(code_obj, self.user_global_ns, self.user_ns)\u001b[0m\n",
      "\u001b[0m  Cell \u001b[1;32mIn[2], line 2\u001b[0m\n    import pm4py\u001b[0m\n",
      "\u001b[0m  File \u001b[1;32m~/Documents/Datalogi/REBS/opg1/pm4py/__init__.py:20\u001b[0m\n    from pm4py import analysis, conformance, convert, discovery, filtering, hof, ml, ocel, org, read, sim, stats, utils, vis, write\u001b[0m\n",
      "\u001b[0m  File \u001b[1;32m~/Documents/Datalogi/REBS/opg1/pm4py/conformance.py:25\u001b[0m\n    from pm4py.convert import convert_to_event_log\u001b[0m\n",
      "\u001b[0m  File \u001b[1;32m~/Documents/Datalogi/REBS/opg1/pm4py/convert.py:27\u001b[0m\n    from pm4py.objects.dcr.obj import DcrGraph\u001b[0m\n",
      "\u001b[0m  File \u001b[1;32m~/Documents/Datalogi/REBS/opg1/pm4py/objects/dcr/__init__.py:1\u001b[0m\n    from pm4py.objects.dcr import obj, semantics, distributed, exporter, importer\u001b[0m\n",
      "\u001b[0m  File \u001b[1;32m~/Documents/Datalogi/REBS/opg1/pm4py/objects/dcr/importer/__init__.py:1\u001b[0m\n    from pm4py.objects.dcr.importer import importer, variants\u001b[0m\n",
      "\u001b[0m  File \u001b[1;32m~/Documents/Datalogi/REBS/opg1/pm4py/objects/dcr/importer/importer.py:3\u001b[0m\n    from pm4py.objects.dcr.importer.variants import xml_dcr_portal, xml_simple\u001b[0m\n",
      "\u001b[0;36m  File \u001b[0;32m~/Documents/Datalogi/REBS/opg1/pm4py/objects/dcr/importer/variants/__init__.py:1\u001b[0;36m\n\u001b[0;31m    from pm4py.objects.dcr.importer.variants import xml_dcr_portal, xml_simple\u001b[0;36m\n",
      "\u001b[0;36m  File \u001b[0;32m~/Documents/Datalogi/REBS/opg1/pm4py/objects/dcr/importer/variants/xml_dcr_portal.py:79\u001b[0;36m\u001b[0m\n\u001b[0;31m    match tag:\u001b[0m\n\u001b[0m          ^\u001b[0m\n\u001b[0;31mSyntaxError\u001b[0m\u001b[0;31m:\u001b[0m invalid syntax\n"
     ]
    }
   ],
   "source": [
    "import pandas as pd\n",
    "import pm4py\n",
    "from copy import deepcopy"
   ]
  },
  {
   "cell_type": "markdown",
   "id": "328fa7eb7f656f72",
   "metadata": {
    "collapsed": false
   },
   "source": [
    "Note: The pm4py library we use in the notebook is an extension with DCR from the original pm4py library. You will find more information on using pm4py here\n",
    "\n",
    "https://pm4py.fit.fraunhofer.de/documentation."
   ]
  },
  {
   "cell_type": "markdown",
   "id": "77e1a80616bec052",
   "metadata": {
    "collapsed": false
   },
   "source": [
    "# Event log data analysis\n",
    "Note: sepsis_df is a pandas dataframe. Feel free to use your knowledge of data frames and data analysis as you see fit. Exploratory Data Analysis (EDA) as you know it from Data Science should work as expected."
   ]
  },
  {
   "cell_type": "code",
   "execution_count": null,
   "id": "337aa17045479873",
   "metadata": {
    "collapsed": false
   },
   "outputs": [],
   "source": [
    "event_log_file = 'notebooks/data/Sepsis Cases - Event Log.xes'\n",
    "sepsis_df = pm4py.read_xes(event_log_file, infer_datetime_format=True) #loading the log\n",
    "sepsis_df # note there are many NaN values, this is expected. When you have a not NaN value look at the concept:name to understand the link between the data attribute and the event."
   ]
  },
  {
   "cell_type": "code",
   "execution_count": null,
   "id": "dfa50b10851fd340",
   "metadata": {
    "collapsed": false
   },
   "outputs": [],
   "source": [
    "returning = sepsis_df[sepsis_df['concept:name']=='Return ER']['case:concept:name'].unique().tolist()"
   ]
  },
  {
   "cell_type": "markdown",
   "id": "d5fde1dea740411a",
   "metadata": {
    "collapsed": false
   },
   "source": [
    "# Part 2.1 Process discovery\n",
    "Note: The model mined with this version of DisCoveR is more complex than the one from the dcrgraphs.net portal. It finds more relations.\n",
    "\n",
    "Note 2: 'conditionsFor' represents the inverse reading of a condition arrow (this was done for efficient checking of the enabledness definition). \n",
    "    For example, you should read that 'Release D' is a conditionFor 'Return ER' ('Release D'-->*'Return ER'), but in the python object you will see it as 'conditionsFor': 'Return ER' {'Release D',...\n",
    "\n",
    "Note 3: The other relations 'includesTo' (-->+), 'excludesTo' (-->%), 'responseTo' (*-->) are represented in the python object in the same direction as the arrows indicate. \n",
    "    For example, 'excludesTo': { ... 'Return ER': {'Return ER', 'Release B' ... encodes the visual self exclusion on 'Return ER' and that 'Return ER' excludes 'Release B' ('Return ER' -->% 'Release B') "
   ]
  },
  {
   "cell_type": "code",
   "execution_count": null,
   "id": "427198a58b95f5f5",
   "metadata": {
    "collapsed": false
   },
   "outputs": [],
   "source": [
    "dcr_sepsis, log_abstraction = pm4py.discover_dcr(sepsis_df) # this discovers a model for the whole log\n",
    "print('Inspect the mined DCR Graph from pm4py')\n",
    "print(f'[Found relations] {dcr_sepsis.get_constraints()}')\n",
    "print(f'[conditionsFor] {dcr_sepsis.conditions}')\n",
    "print(f'[excludesTo] {dcr_sepsis.excludes}')\n",
    "# when you discover (mine) a DCR Graph the marking you get will have all events included, none executed and none pending\n",
    "print(f'[marking executed] {dcr_sepsis.marking.executed}')\n",
    "print(f'[marking included] {dcr_sepsis.marking.included}')\n",
    "print(f'[marking pending] {dcr_sepsis.marking.pending}')\n",
    "pm4py.view_dcr(dcr_sepsis)"
   ]
  },
  {
   "cell_type": "markdown",
   "id": "32e61a93d241a6ea",
   "metadata": {
    "collapsed": false
   },
   "source": [
    "Example: play with the execution semantics in the notebook"
   ]
  },
  {
   "cell_type": "code",
   "execution_count": null,
   "id": "c0a8f21a2b4b65c5",
   "metadata": {
    "collapsed": false
   },
   "outputs": [],
   "source": [
    "def execute_and_check(event_to_execute,dcr_graph, dcr_semantics):\n",
    "    enabled_events = dcr_semantics.enabled(dcr_graph)\n",
    "    print(f'[Before executing {event_to_execute}] Enabled events: {enabled_events}') # check enabled events\n",
    "    if event_to_execute in enabled_events: # check if I can execute the event_to_execute\n",
    "        dcr_graph_new_marking = dcr_semantics.execute(dcr_graph,event_to_execute) # here you execute the event and change the state of the dcr graph\n",
    "        print(f'[ After executing {event_to_execute}] Enabled events: {dcr_semantics.enabled(dcr_graph_new_marking)}') # now these are the newly enabled events\n",
    "        print(f'[Is the graph accepting?] {dcr_semantics.is_accepting(dcr_graph_new_marking)}')\n",
    "        return dcr_graph_new_marking\n",
    "    else:\n",
    "        print(f'[Error!] {event_to_execute} not in the set of enabled events')\n",
    "        return dcr_graph\n",
    "\n",
    "from pm4py.objects.dcr.semantics import DcrSemantics\n",
    "\n",
    "temp_dcr = deepcopy(dcr_sepsis)\n",
    "dcr_semantics = DcrSemantics()\n",
    "event_to_execute1 = 'CRP' # update this event in order to simulate the execution of the event\n",
    "temp_dcr = execute_and_check(event_to_execute1,temp_dcr,dcr_semantics)\n",
    "event_to_execute2 = 'ER Sepsis Triage' # update this event in order to simulate the execution of the event\n",
    "temp_dcr = execute_and_check(event_to_execute2,temp_dcr,dcr_semantics)"
   ]
  },
  {
   "cell_type": "markdown",
   "id": "228fe891ace2fdce",
   "metadata": {
    "collapsed": false
   },
   "source": [
    "2.3 (in the notebook): Now I can make 'Release D' pending. This has an effect on my acceptance criteria. Also I cannot execute 'Release D' yet, because I have to satisfy the condition chain which will eventually enable 'Release D'.\n",
    "What is the minimal sequence of events I need to execute before I am able to execute 'Release D' and return into an accepting state for my DCR Graph? "
   ]
  },
  {
   "cell_type": "code",
   "execution_count": null,
   "id": "5a1b3dde89450345",
   "metadata": {
    "collapsed": false
   },
   "outputs": [],
   "source": [
    "temp_dcr = deepcopy(dcr_sepsis)\n",
    "dcr_semantics = DcrSemantics()\n",
    "temp_dcr.marking.pending.add('Release D')\n",
    "print(f'[marking pending] {temp_dcr.marking.pending}')\n",
    "#TODO: execute the minimum number of events to enable 'Release D'\n",
    "for event in ['ER Registration','ER Triage', 'Admission NC', 'ER Sepsis Triage', 'CRP', 'Leucocytes', 'Release D']:\n",
    "    temp_dcr = execute_and_check(event,temp_dcr,dcr_semantics)"
   ]
  },
  {
   "cell_type": "code",
   "execution_count": null,
   "id": "a6bc224b08093e2b",
   "metadata": {
    "collapsed": false
   },
   "outputs": [],
   "source": [
    "returning_df =sepsis_df[sepsis_df['case:concept:name'].isin(returning)]\n",
    "non_returning_df = sepsis_df[~sepsis_df['case:concept:name'].isin(returning)]\n",
    "#TODO: 1.5 run DisCoveR, export to the models folder, load them into the portal, run some descriptive statistics as seen above on the two subsets.\n",
    "non_returning_dcr, _ = pm4py.discover_dcr(non_returning_df)\n",
    "returning_dcr, _ = pm4py.discover_dcr(returning_df)"
   ]
  },
  {
   "cell_type": "code",
   "execution_count": null,
   "id": "fc29de7f573447c5",
   "metadata": {},
   "outputs": [],
   "source": [
    "pm4py.save_vis_dcr(returning_dcr,file_path='notebooks/img/returning_conformance.png')\n",
    "pm4py.view_dcr(returning_dcr)\n",
    "pm4py.save_vis_dcr(non_returning_dcr,file_path='notebooks/img/non_returning_conformance.png')\n",
    "pm4py.view_dcr(non_returning_dcr)"
   ]
  },
  {
   "cell_type": "markdown",
   "id": "a0da0e2d26112cbd",
   "metadata": {
    "collapsed": false
   },
   "source": [
    "# Part 2.2 Conformance checking\n",
    "### Rule based conformance checking\n",
    "Note: Testing for conformance on the same data you used to discover your model will always be a perfect fit"
   ]
  },
  {
   "cell_type": "code",
   "execution_count": null,
   "id": "c9389d3c82a5d693",
   "metadata": {
    "collapsed": false
   },
   "outputs": [],
   "source": [
    "conformance_sepsis_df = pd.DataFrame(pm4py.conformance_dcr(sepsis_df,dcr_sepsis))\n",
    "print(f'[Deviation fitness] {conformance_sepsis_df[\"dev_fitness\"].mean()}')\n",
    "conformance_sepsis_df[conformance_sepsis_df['is_fit']==False]"
   ]
  },
  {
   "cell_type": "markdown",
   "id": "4c14aa53d0853592",
   "metadata": {
    "collapsed": false
   },
   "source": [
    "### Choice conformance"
   ]
  },
  {
   "cell_type": "code",
   "execution_count": null,
   "id": "7e62014c58b1bcf1",
   "metadata": {},
   "outputs": [],
   "source": [
    "choice_graph = deepcopy(dcr_sepsis)\n",
    "choice_graph.conditions = {}\n",
    "choice_graph.excludes = {'Admission NC':{'Admission NC','Admission IC'},'Admission IC':{'Admission IC','Admission NC'}}\n",
    "choice_graph.events = {'Admission NC','Admission IC'}\n",
    "choice_graph.marking.included = {'Admission NC','Admission IC'}\n",
    "pm4py.view_dcr(choice_graph)\n",
    "pm4py.save_vis_dcr(choice_graph,file_path='notebooks/img/choice_conformance.png')"
   ]
  },
  {
   "cell_type": "code",
   "execution_count": null,
   "id": "ee4df99cd1eec9b0",
   "metadata": {
    "collapsed": false
   },
   "outputs": [],
   "source": [
    "conformance_sepsis_df = pd.DataFrame(pm4py.conformance_dcr(sepsis_df, choice_graph))\n",
    "print(f'[Deviation fitness] {conformance_sepsis_df[\"dev_fitness\"].mean()}')\n",
    "print('Conforming traces:',len(conformance_sepsis_df[conformance_sepsis_df['is_fit']==True]))\n",
    "print('Non-conforming traces',len(conformance_sepsis_df[conformance_sepsis_df['is_fit']==False]))\n",
    "print(conformance_sepsis_df[conformance_sepsis_df['is_fit']==False]['deviations'].value_counts())"
   ]
  },
  {
   "cell_type": "code",
   "execution_count": null,
   "id": "af2c6b18834b83b0",
   "metadata": {
    "collapsed": false
   },
   "outputs": [],
   "source": [
    "conformance_sepsis_df = pd.DataFrame(pm4py.conformance_dcr(returning_df, choice_graph))\n",
    "print(f'[Deviation fitness] {conformance_sepsis_df[\"dev_fitness\"].mean()}')\n",
    "print('Conforming traces:',len(conformance_sepsis_df[conformance_sepsis_df['is_fit']==True]))\n",
    "print('Non-conforming traces',len(conformance_sepsis_df[conformance_sepsis_df['is_fit']==False]))\n",
    "conformance_sepsis_df[conformance_sepsis_df['is_fit']==False]['deviations'].value_counts()"
   ]
  },
  {
   "cell_type": "code",
   "execution_count": null,
   "id": "673dbd5f0152f184",
   "metadata": {
    "collapsed": false
   },
   "outputs": [],
   "source": [
    "conformance_sepsis_df = pd.DataFrame(pm4py.conformance_dcr(non_returning_df, choice_graph))\n",
    "print(f'[Deviation fitness] {conformance_sepsis_df[\"dev_fitness\"].mean()}')\n",
    "print('Conforming traces:',len(conformance_sepsis_df[conformance_sepsis_df['is_fit']==True]))\n",
    "print('Non-conforming traces',len(conformance_sepsis_df[conformance_sepsis_df['is_fit']==False]))\n",
    "conformance_sepsis_df[conformance_sepsis_df['is_fit']==False]['deviations'].value_counts()"
   ]
  },
  {
   "cell_type": "markdown",
   "id": "33f7eb4e747b8d80",
   "metadata": {
    "collapsed": false
   },
   "source": [
    "### Sequence conformance"
   ]
  },
  {
   "cell_type": "code",
   "execution_count": null,
   "id": "170194fca2d0118",
   "metadata": {},
   "outputs": [],
   "source": [
    "sequence_graph = deepcopy(dcr_sepsis)\n",
    "sequence_graph.conditions = {'ER Triage': {'ER Registration'}, 'ER Sepsis Triage':{'ER Triage'}}\n",
    "sequence_graph.excludes = {}\n",
    "sequence_graph.responses = {'ER Registration': {'ER Triage'}, 'ER Triage': {'ER Sepsis Triage'}}\n",
    "sequence_graph.events = {'ER Registration','ER Sepsis Triage','ER Triage'}\n",
    "sequence_graph.marking.included = {'ER Registration','ER Sepsis Triage','ER Triage'}\n",
    "pm4py.view_dcr(sequence_graph)\n",
    "pm4py.save_vis_dcr(sequence_graph,file_path='notebooks/img/sequence_conformance.png')"
   ]
  },
  {
   "cell_type": "code",
   "execution_count": null,
   "id": "6ae7ed3bcb776a94",
   "metadata": {
    "collapsed": false
   },
   "outputs": [],
   "source": [
    "conformance_sepsis_df = pd.DataFrame(pm4py.conformance_dcr(sepsis_df,sequence_graph))\n",
    "print(f'[Deviation fitness] {conformance_sepsis_df[\"dev_fitness\"].mean()}')\n",
    "print('Conforming traces:',len(conformance_sepsis_df[conformance_sepsis_df['is_fit']==True]))\n",
    "print('Non-conforming traces',len(conformance_sepsis_df[conformance_sepsis_df['is_fit']==False]))\n",
    "conformance_sepsis_df[conformance_sepsis_df['is_fit']==False]['deviations'].value_counts()"
   ]
  },
  {
   "cell_type": "code",
   "execution_count": null,
   "id": "54b89e569da50803",
   "metadata": {
    "collapsed": false
   },
   "outputs": [],
   "source": [
    "conformance_sepsis_df = pd.DataFrame(pm4py.conformance_dcr(returning_df,sequence_graph))\n",
    "print(f'[Deviation fitness] {conformance_sepsis_df[\"dev_fitness\"].mean()}')\n",
    "print('Conforming traces:',len(conformance_sepsis_df[conformance_sepsis_df['is_fit']==True]))\n",
    "print('Non-conforming traces',len(conformance_sepsis_df[conformance_sepsis_df['is_fit']==False]))\n",
    "conformance_sepsis_df[conformance_sepsis_df['is_fit']==False]['deviations'].value_counts()"
   ]
  },
  {
   "cell_type": "code",
   "execution_count": null,
   "id": "c3add6af644abde7",
   "metadata": {
    "collapsed": false
   },
   "outputs": [],
   "source": [
    "conformance_sepsis_df = pd.DataFrame(pm4py.conformance_dcr(non_returning_df,sequence_graph))\n",
    "print(f'[Deviation fitness] {conformance_sepsis_df[\"dev_fitness\"].mean()}')\n",
    "print('Conforming traces:',len(conformance_sepsis_df[conformance_sepsis_df['is_fit']==True]))\n",
    "print('Non-conforming traces',len(conformance_sepsis_df[conformance_sepsis_df['is_fit']==False]))\n",
    "conformance_sepsis_df[conformance_sepsis_df['is_fit']==False]['deviations'].value_counts()"
   ]
  },
  {
   "cell_type": "markdown",
   "id": "4ca8ab2ea5163435",
   "metadata": {},
   "source": [
    "## Alignment based conformance\n",
    "Note: Testing for conformance on the same data you used to discover your model will always be a perfect fit"
   ]
  },
  {
   "cell_type": "code",
   "execution_count": null,
   "id": "e2ea8008a3ff0c23",
   "metadata": {
    "collapsed": false
   },
   "outputs": [],
   "source": [
    "alignment_sepsis_df = pd.DataFrame(pm4py.optimal_alignment_dcr(sepsis_df,dcr_sepsis))\n",
    "print(f'[Alignment fitness] {alignment_sepsis_df[\"fitness\"].mean()}')\n",
    "alignment_sepsis_df[alignment_sepsis_df['fitness']<1]"
   ]
  },
  {
   "cell_type": "code",
   "execution_count": null,
   "id": "a89f04809caaa02d",
   "metadata": {
    "collapsed": false
   },
   "outputs": [],
   "source": [
    "alignment_sepsis_df = pd.DataFrame(pm4py.optimal_alignment_dcr(sepsis_df,choice_graph))\n",
    "print(f'[Deviation fitness] {alignment_sepsis_df[\"fitness\"].mean()}')\n",
    "print(len(alignment_sepsis_df[alignment_sepsis_df['fitness']==1]))\n",
    "print(len(alignment_sepsis_df[alignment_sepsis_df['fitness']!=1]))\n",
    "alignment_sepsis_df[alignment_sepsis_df['fitness']!=1]['alignment'].value_counts()"
   ]
  },
  {
   "cell_type": "code",
   "execution_count": null,
   "id": "476cd8eec7b79ec4",
   "metadata": {
    "collapsed": false
   },
   "outputs": [],
   "source": [
    "alignment_sepsis_df = pd.DataFrame(pm4py.optimal_alignment_dcr(returning_df,choice_graph))\n",
    "print(f'[Deviation fitness] {alignment_sepsis_df[\"fitness\"].mean()}')\n",
    "print(len(alignment_sepsis_df[alignment_sepsis_df['fitness']==1]))\n",
    "print(len(alignment_sepsis_df[alignment_sepsis_df['fitness']!=1]))\n",
    "alignment_sepsis_df[alignment_sepsis_df['fitness']!=1]['alignment'].value_counts()"
   ]
  },
  {
   "cell_type": "code",
   "execution_count": null,
   "id": "98d1b37633197c68",
   "metadata": {
    "collapsed": false
   },
   "outputs": [],
   "source": [
    "alignment_sepsis_df = pd.DataFrame(pm4py.optimal_alignment_dcr(non_returning_df, choice_graph))\n",
    "print(f'[Deviation fitness] {alignment_sepsis_df[\"fitness\"].mean()}')\n",
    "print(len(alignment_sepsis_df[alignment_sepsis_df['fitness']==1]))\n",
    "print(len(alignment_sepsis_df[alignment_sepsis_df['fitness']!=1]))\n",
    "alignment_sepsis_df[alignment_sepsis_df['fitness']!=1]['alignment'].value_counts()"
   ]
  },
  {
   "cell_type": "code",
   "execution_count": null,
   "id": "cf9a159515b952d1",
   "metadata": {
    "collapsed": false
   },
   "outputs": [],
   "source": [
    "alignment_sepsis_df = pd.DataFrame(pm4py.optimal_alignment_dcr(sepsis_df,sequence_graph))\n",
    "print(f'[Deviation fitness] {alignment_sepsis_df[\"fitness\"].mean()}')\n",
    "print(len(alignment_sepsis_df[alignment_sepsis_df['fitness']==1]))\n",
    "print(len(alignment_sepsis_df[alignment_sepsis_df['fitness']!=1]))\n",
    "alignment_sepsis_df[alignment_sepsis_df['fitness']!=1]['alignment'].value_counts()"
   ]
  },
  {
   "cell_type": "code",
   "execution_count": null,
   "id": "eac7dabbb184fb32",
   "metadata": {
    "collapsed": false
   },
   "outputs": [],
   "source": [
    "alignment_sepsis_df = pd.DataFrame(pm4py.optimal_alignment_dcr(returning_df,sequence_graph))\n",
    "print(f'[Deviation fitness] {alignment_sepsis_df[\"fitness\"].mean()}')\n",
    "print(len(alignment_sepsis_df[alignment_sepsis_df['fitness']==1]))\n",
    "print(len(alignment_sepsis_df[alignment_sepsis_df['fitness']!=1]))\n",
    "alignment_sepsis_df[alignment_sepsis_df['fitness']!=1]['alignment'].value_counts()"
   ]
  },
  {
   "cell_type": "code",
   "execution_count": null,
   "id": "114ced4272fd7dea",
   "metadata": {
    "collapsed": false
   },
   "outputs": [],
   "source": [
    "alignment_sepsis_df = pd.DataFrame(pm4py.optimal_alignment_dcr(non_returning_df,sequence_graph))\n",
    "print(f'[Deviation fitness] {alignment_sepsis_df[\"fitness\"].mean()}')\n",
    "print(len(alignment_sepsis_df[alignment_sepsis_df['fitness']==1]))\n",
    "print(len(alignment_sepsis_df[alignment_sepsis_df['fitness']!=1]))\n",
    "alignment_sepsis_df[alignment_sepsis_df['fitness']!=1]['alignment'].value_counts()"
   ]
  }
 ],
 "metadata": {
  "kernelspec": {
   "display_name": "Python 3",
   "language": "python",
   "name": "python3"
  },
  "language_info": {
   "codemirror_mode": {
    "name": "ipython",
    "version": 3
   },
   "file_extension": ".py",
   "mimetype": "text/x-python",
   "name": "python",
   "nbconvert_exporter": "python",
   "pygments_lexer": "ipython3",
   "version": "3.9.20"
  }
 },
 "nbformat": 4,
 "nbformat_minor": 5
}
