{
 "cells": [
  {
   "cell_type": "code",
   "execution_count": 317,
   "metadata": {},
   "outputs": [
    {
     "name": "stdout",
     "output_type": "stream",
     "text": [
      "The autoreload extension is already loaded. To reload it, use:\n",
      "  %reload_ext autoreload\n",
      "/\n",
      "/\n"
     ]
    }
   ],
   "source": [
    "%load_ext autoreload\n",
    "%autoreload 2\n",
    "import os\n",
    "print(os.getcwd())\n",
    "to_run = True\n",
    "if to_run:\n",
    "    os.chdir('..')\n",
    "    to_run = False\n",
    "print(os.getcwd())"
   ]
  },
  {
   "cell_type": "code",
   "execution_count": null,
   "metadata": {},
   "outputs": [
    {
     "ename": "AttributeError",
     "evalue": "'HierarchicalSemantics' object has no attribute 'default_include'",
     "output_type": "error",
     "traceback": [
      "\u001b[0;31m---------------------------------------------------------------------------\u001b[0m",
      "\u001b[0;31mAttributeError\u001b[0m                            Traceback (most recent call last)",
      "Cell \u001b[0;32mIn[318], line 45\u001b[0m\n\u001b[1;32m     42\u001b[0m g\u001b[38;5;241m.\u001b[39mmarking\u001b[38;5;241m.\u001b[39mpending\u001b[38;5;241m.\u001b[39madd(\u001b[38;5;124m\"\u001b[39m\u001b[38;5;124mloneEvent2\u001b[39m\u001b[38;5;124m\"\u001b[39m)\n\u001b[1;32m     44\u001b[0m \u001b[38;5;66;03m# All other events can be safelu assumed as included\u001b[39;00m\n\u001b[0;32m---> 45\u001b[0m \u001b[43msem\u001b[49m\u001b[38;5;241;43m.\u001b[39;49m\u001b[43mdefault_include\u001b[49m(g)\n\u001b[1;32m     47\u001b[0m \u001b[38;5;28mprint\u001b[39m(g)\n\u001b[1;32m     48\u001b[0m \u001b[38;5;28mprint\u001b[39m(sem\u001b[38;5;241m.\u001b[39menabled(g))  \n",
      "\u001b[0;31mAttributeError\u001b[0m: 'HierarchicalSemantics' object has no attribute 'default_include'"
     ]
    }
   ],
   "source": [
    "# Given a nested graph and one event.\n",
    "# The nested graph will have a condition to the event\n",
    "\n",
    "# We want to prove that the semantic implementatin reflects our hypothesis\n",
    "import pm4py\n",
    "from pm4py.objects.dcr.obj import DcrGraph\n",
    "from pm4py.objects.dcr.hierarchical.obj import HierarchicalDcrGraph\n",
    "from pm4py.objects.dcr.hierarchical.semantics import HierarchicalSemantics\n",
    "g = HierarchicalDcrGraph()\n",
    "sem = HierarchicalSemantics()\n",
    "events = set([\"Action1\", \"Action2\", \"Action3\"])\n",
    "anotherEvents = set([\"AnotherAction1\", \"anotherAction2\", \"anotherAction3\"])\n",
    "\n",
    "g.nestedgroups[\"nested\"] = events\n",
    "g.nestedgroups[\"anothernested\"] = anotherEvents\n",
    "\n",
    "\n",
    "for event in events:\n",
    "    g.events.add(event)\n",
    "    g.labels.add(event)\n",
    "    #g.marking.included.add(event)\n",
    "    g.label_map[event] = event\n",
    "    \n",
    "for event in anotherEvents:\n",
    "    g.events.add(event)\n",
    "    g.labels.add(event)\n",
    "    #g.marking.included.add(event)      \n",
    "    g.label_map[event] = event  \n",
    "    #g.marking.pending.add(event)\n",
    "    \n",
    "g.marking.executed.add(\"Action1\")\n",
    "\n",
    "g.events.add(\"loneEvent\")\n",
    "g.labels.add(\"loneEvent\")\n",
    "#g.marking.included.add(\"loneEvent\")      \n",
    "g.label_map[\"loneEvent\"] = \"loneEvent\"    \n",
    "\n",
    "g.events.add(\"loneEvent2\")\n",
    "g.labels.add(\"loneEvent2\")\n",
    "#g.marking.included.add(\"loneEvent2\")      \n",
    "g.label_map[\"loneEvent2\"] = \"loneEvent2\" \n",
    "g.marking.pending.add(\"loneEvent2\")\n",
    "\n",
    "# All other events can be safelu assumed as included\n",
    "#sem.default_include(g)\n",
    "   \n",
    "print(g)\n",
    "print(sem.enabled(g))  \n",
    "\n",
    "g.conditions[\"loneEvent\"] = {\"nested\"}\n",
    "#g.milestones[\"nested\"] = {\"anothernested\"}  \n",
    "print(sem.enabled(g))  "
   ]
  }
 ],
 "metadata": {
  "kernelspec": {
   "display_name": "Python 3",
   "language": "python",
   "name": "python3"
  },
  "language_info": {
   "codemirror_mode": {
    "name": "ipython",
    "version": 3
   },
   "file_extension": ".py",
   "mimetype": "text/x-python",
   "name": "python",
   "nbconvert_exporter": "python",
   "pygments_lexer": "ipython3",
   "version": "3.11.11"
  }
 },
 "nbformat": 4,
 "nbformat_minor": 2
}
